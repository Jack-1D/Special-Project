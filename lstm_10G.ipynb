{
 "cells": [
  {
   "cell_type": "code",
   "execution_count": 202,
   "metadata": {
    "tags": []
   },
   "outputs": [
    {
     "data": {
      "text/plain": [
       "<torch._C.Generator at 0x276f38b8d90>"
      ]
     },
     "execution_count": 202,
     "metadata": {},
     "output_type": "execute_result"
    }
   ],
   "source": [
    "import pandas as pd\n",
    "import numpy as np\n",
    "import torch\n",
    "import torch.nn as nn\n",
    "import torch.nn.functional as F\n",
    "import torch.optim as optim\n",
    "from torch.utils.data import Dataset, DataLoader\n",
    "import matplotlib.pyplot as plt\n",
    "torch.manual_seed(1)"
   ]
  },
  {
   "cell_type": "code",
   "execution_count": 203,
   "metadata": {
    "tags": []
   },
   "outputs": [],
   "source": [
    "input_size = 2\n",
    "hidden_size = 64\n",
    "num_layers = 1\n",
    "output_size = 1\n",
    "lr = 0.0001\n",
    "epochs = 100\n",
    "batch_size = 1\n",
    "# 拿幾天前來預測\n",
    "days_before = 3\n",
    "# 有多少機台\n",
    "num_machine = 5\n",
    "# 我們有的資料天數\n",
    "days_of_sample = 14\n",
    "# 訓練、測試比例\n",
    "split_rate = 0.8"
   ]
  },
  {
   "cell_type": "code",
   "execution_count": 204,
   "metadata": {
    "tags": []
   },
   "outputs": [],
   "source": [
    "df=pd.read_csv(\"data.csv\",encoding='big5')\n",
    "df=df[df.index%2==1]\n",
    "df06=df[df['機台號']==\"h06\"]\n",
    "df14=df[df['機台號']==\"h14\"]\n",
    "\n",
    "df01=df[df['機台號']==\"h01\"]\n",
    "df02=df[df['機台號']==\"h02\"]\n",
    "df08=df[df['機台號']==\"h08\"]\n",
    "df10=df[df['機台號']==\"h10\"]\n",
    "df15=df[df['機台號']==\"h15\"]\n",
    "df19=df[df['機台號']==\"h19\"]"
   ]
  },
  {
   "cell_type": "code",
   "execution_count": 205,
   "metadata": {
    "tags": []
   },
   "outputs": [],
   "source": [
    "df06.reset_index(drop=True, inplace=True)\n",
    "df14.reset_index(drop=True, inplace=True)\n",
    "df01.reset_index(drop=True, inplace=True)\n",
    "df01 = df01[df01.index%2==0]\n",
    "df01.reset_index(drop=True, inplace=True)\n",
    "df02.reset_index(drop=True, inplace=True)\n",
    "df02 = df02[df02.index%2==0]\n",
    "df02.reset_index(drop=True, inplace=True)\n",
    "df08.reset_index(drop=True, inplace=True)\n",
    "df08 = df08[df08.index%2==0]\n",
    "df08.reset_index(drop=True, inplace=True)\n",
    "df10.reset_index(drop=True, inplace=True)\n",
    "df10 = df10[df10.index%2==0]\n",
    "df10.reset_index(drop=True, inplace=True)\n",
    "df15.reset_index(drop=True, inplace=True)\n",
    "df15 = df15[df15.index%2==0]\n",
    "df15.reset_index(drop=True, inplace=True)\n",
    "df19.reset_index(drop=True, inplace=True)\n",
    "df19 = df19[df19.index%2==0]\n",
    "df19.reset_index(drop=True, inplace=True)"
   ]
  },
  {
   "cell_type": "code",
   "execution_count": 206,
   "metadata": {
    "tags": []
   },
   "outputs": [],
   "source": [
    "df1G = pd.concat([df06, df14], axis=0)\n",
    "df1G.sort_values(by=['生產日期','機台號'], inplace = True)\n",
    "df1G.reset_index(drop=True, inplace=True)\n",
    "# df15沒加進去\n",
    "df10G = pd.concat([df01, df02, df08, df10, df19], axis=0)\n",
    "df10G.sort_values(by=['生產日期','機台號'], inplace = True)\n",
    "df10G.reset_index(drop=True, inplace=True)\n",
    "df = pd.concat([df1G, df10G], axis = 0)\n",
    "df.sort_values(by=['生產日期','機台號'], inplace = True)\n",
    "df.reset_index(drop=True, inplace=True)\n",
    "\n",
    "X10G = df10G.drop([\"生產日期\", \"機台號\", \"班別\",\"產能\"], axis=1)"
   ]
  },
  {
   "cell_type": "code",
   "execution_count": 207,
   "metadata": {
    "tags": []
   },
   "outputs": [
    {
     "data": {
      "text/html": [
       "<div>\n",
       "<style scoped>\n",
       "    .dataframe tbody tr th:only-of-type {\n",
       "        vertical-align: middle;\n",
       "    }\n",
       "\n",
       "    .dataframe tbody tr th {\n",
       "        vertical-align: top;\n",
       "    }\n",
       "\n",
       "    .dataframe thead th {\n",
       "        text-align: right;\n",
       "    }\n",
       "</style>\n",
       "<table border=\"1\" class=\"dataframe\">\n",
       "  <thead>\n",
       "    <tr style=\"text-align: right;\">\n",
       "      <th></th>\n",
       "      <th>OEE</th>\n",
       "      <th>良率</th>\n",
       "    </tr>\n",
       "  </thead>\n",
       "  <tbody>\n",
       "    <tr>\n",
       "      <th>0</th>\n",
       "      <td>72.9</td>\n",
       "      <td>94.3</td>\n",
       "    </tr>\n",
       "    <tr>\n",
       "      <th>1</th>\n",
       "      <td>81.2</td>\n",
       "      <td>94.8</td>\n",
       "    </tr>\n",
       "    <tr>\n",
       "      <th>2</th>\n",
       "      <td>74.7</td>\n",
       "      <td>91.1</td>\n",
       "    </tr>\n",
       "    <tr>\n",
       "      <th>3</th>\n",
       "      <td>62.7</td>\n",
       "      <td>91.2</td>\n",
       "    </tr>\n",
       "    <tr>\n",
       "      <th>4</th>\n",
       "      <td>75.5</td>\n",
       "      <td>92.2</td>\n",
       "    </tr>\n",
       "    <tr>\n",
       "      <th>...</th>\n",
       "      <td>...</td>\n",
       "      <td>...</td>\n",
       "    </tr>\n",
       "    <tr>\n",
       "      <th>65</th>\n",
       "      <td>72.4</td>\n",
       "      <td>90.1</td>\n",
       "    </tr>\n",
       "    <tr>\n",
       "      <th>66</th>\n",
       "      <td>71.1</td>\n",
       "      <td>94.8</td>\n",
       "    </tr>\n",
       "    <tr>\n",
       "      <th>67</th>\n",
       "      <td>54.9</td>\n",
       "      <td>86.7</td>\n",
       "    </tr>\n",
       "    <tr>\n",
       "      <th>68</th>\n",
       "      <td>68.3</td>\n",
       "      <td>96.9</td>\n",
       "    </tr>\n",
       "    <tr>\n",
       "      <th>69</th>\n",
       "      <td>75.5</td>\n",
       "      <td>93.3</td>\n",
       "    </tr>\n",
       "  </tbody>\n",
       "</table>\n",
       "<p>70 rows × 2 columns</p>\n",
       "</div>"
      ],
      "text/plain": [
       "     OEE    良率\n",
       "0   72.9  94.3\n",
       "1   81.2  94.8\n",
       "2   74.7  91.1\n",
       "3   62.7  91.2\n",
       "4   75.5  92.2\n",
       "..   ...   ...\n",
       "65  72.4  90.1\n",
       "66  71.1  94.8\n",
       "67  54.9  86.7\n",
       "68  68.3  96.9\n",
       "69  75.5  93.3\n",
       "\n",
       "[70 rows x 2 columns]"
      ]
     },
     "execution_count": 207,
     "metadata": {},
     "output_type": "execute_result"
    }
   ],
   "source": [
    "X10G"
   ]
  },
  {
   "cell_type": "code",
   "execution_count": 208,
   "metadata": {
    "tags": []
   },
   "outputs": [
    {
     "data": {
      "text/html": [
       "<div>\n",
       "<style scoped>\n",
       "    .dataframe tbody tr th:only-of-type {\n",
       "        vertical-align: middle;\n",
       "    }\n",
       "\n",
       "    .dataframe tbody tr th {\n",
       "        vertical-align: top;\n",
       "    }\n",
       "\n",
       "    .dataframe thead th {\n",
       "        text-align: right;\n",
       "    }\n",
       "</style>\n",
       "<table border=\"1\" class=\"dataframe\">\n",
       "  <thead>\n",
       "    <tr style=\"text-align: right;\">\n",
       "      <th></th>\n",
       "      <th>產能</th>\n",
       "    </tr>\n",
       "  </thead>\n",
       "  <tbody>\n",
       "    <tr>\n",
       "      <th>0</th>\n",
       "      <td>9948</td>\n",
       "    </tr>\n",
       "    <tr>\n",
       "      <th>1</th>\n",
       "      <td>9900</td>\n",
       "    </tr>\n",
       "    <tr>\n",
       "      <th>2</th>\n",
       "      <td>9683</td>\n",
       "    </tr>\n",
       "    <tr>\n",
       "      <th>3</th>\n",
       "      <td>8997</td>\n",
       "    </tr>\n",
       "    <tr>\n",
       "      <th>4</th>\n",
       "      <td>10124</td>\n",
       "    </tr>\n",
       "    <tr>\n",
       "      <th>5</th>\n",
       "      <td>10527</td>\n",
       "    </tr>\n",
       "    <tr>\n",
       "      <th>6</th>\n",
       "      <td>9735</td>\n",
       "    </tr>\n",
       "    <tr>\n",
       "      <th>7</th>\n",
       "      <td>8604</td>\n",
       "    </tr>\n",
       "    <tr>\n",
       "      <th>8</th>\n",
       "      <td>10058</td>\n",
       "    </tr>\n",
       "    <tr>\n",
       "      <th>9</th>\n",
       "      <td>9704</td>\n",
       "    </tr>\n",
       "    <tr>\n",
       "      <th>10</th>\n",
       "      <td>9888</td>\n",
       "    </tr>\n",
       "    <tr>\n",
       "      <th>11</th>\n",
       "      <td>10708</td>\n",
       "    </tr>\n",
       "    <tr>\n",
       "      <th>12</th>\n",
       "      <td>10235</td>\n",
       "    </tr>\n",
       "    <tr>\n",
       "      <th>13</th>\n",
       "      <td>9318</td>\n",
       "    </tr>\n",
       "  </tbody>\n",
       "</table>\n",
       "</div>"
      ],
      "text/plain": [
       "       產能\n",
       "0    9948\n",
       "1    9900\n",
       "2    9683\n",
       "3    8997\n",
       "4   10124\n",
       "5   10527\n",
       "6    9735\n",
       "7    8604\n",
       "8   10058\n",
       "9    9704\n",
       "10   9888\n",
       "11  10708\n",
       "12  10235\n",
       "13   9318"
      ]
     },
     "execution_count": 208,
     "metadata": {},
     "output_type": "execute_result"
    }
   ],
   "source": [
    "# 計算每日總產能\n",
    "Y10G = pd.DataFrame(columns=['產能'])\n",
    "row, col = df10G.shape\n",
    "for i in range(days_of_sample):\n",
    "    Y10G.loc[i,'產能']=sum([df10G.loc[n+i*num_machine,'產能'] for n in range(num_machine)])\n",
    "Y10G"
   ]
  },
  {
   "cell_type": "code",
   "execution_count": 209,
   "metadata": {
    "tags": []
   },
   "outputs": [
    {
     "data": {
      "image/png": "[encoded data removed]",
      "text/plain": [
       "<Figure size 640x480 with 1 Axes>"
      ]
     },
     "metadata": {},
     "output_type": "display_data"
    }
   ],
   "source": [
    "date = Y10G.index\n",
    "plt.plot(date, Y10G)\n",
    "plt.title(\"df1G_output\")\n",
    "plt.xlabel(\"date\")\n",
    "plt.ylabel(\"output\")\n",
    "plt.show()\n",
    "\n",
    "# 正規化\n",
    "mean_10G = Y10G[\"產能\"].mean()\n",
    "std_10G = Y10G[\"產能\"].std()\n",
    "X10G = X10G.apply(lambda x: (x - x.mean()) / x.std(), axis=0)\n",
    "Y10G = Y10G.apply(lambda x: (x - x.mean()) / x.std(), axis=0)"
   ]
  },
  {
   "cell_type": "code",
   "execution_count": 210,
   "metadata": {
    "tags": []
   },
   "outputs": [],
   "source": [
    "def create_sequence(data, output, seq_len):\n",
    "    xs = []\n",
    "    ys = []\n",
    "    row, col = data.shape\n",
    "    # 每次移5個機台\n",
    "    for i in range(int((row - seq_len)/num_machine)):\n",
    "        x = data[i*num_machine:i*num_machine+seq_len]\n",
    "        y = []\n",
    "        # y為三天後的產能\n",
    "        y.append(output[i+seq_len//num_machine][0])\n",
    "        xs.append(x)\n",
    "        ys.append(y)\n",
    "    return np.array(xs), np.array(ys)\n",
    "        "
   ]
  },
  {
   "cell_type": "code",
   "execution_count": 211,
   "metadata": {
    "tags": []
   },
   "outputs": [
    {
     "data": {
      "text/plain": [
       "array([[-1.46178674],\n",
       "       [ 0.54885498],\n",
       "       [ 1.26783334],\n",
       "       [-0.14514646],\n",
       "       [-2.16292445],\n",
       "       [ 0.43110666],\n",
       "       [-0.20045249],\n",
       "       [ 0.12781554],\n",
       "       [ 1.59074918],\n",
       "       [ 0.74688624],\n",
       "       [-0.88910174]])"
      ]
     },
     "execution_count": 211,
     "metadata": {},
     "output_type": "execute_result"
    }
   ],
   "source": [
    "X10G_array = np.array(X10G)\n",
    "Y10G_array = np.array(Y10G)\n",
    "# 3天份資料\n",
    "seq_len = days_before*num_machine\n",
    "X, Y = create_sequence(X10G_array,Y10G_array, seq_len)\n",
    "train_size = int(len(X) * split_rate)\n",
    "Y"
   ]
  },
  {
   "cell_type": "code",
   "execution_count": 212,
   "metadata": {
    "tags": []
   },
   "outputs": [],
   "source": [
    "train_X = torch.tensor(np.array(X[:train_size]), dtype=torch.float)\n",
    "train_Y = torch.tensor(np.array(Y[:train_size]), dtype=torch.float)\n",
    "test_X = torch.tensor(np.array(X[train_size:]), dtype=torch.float)\n",
    "test_Y = torch.tensor(np.array(Y[train_size:]), dtype=torch.float)"
   ]
  },
  {
   "cell_type": "code",
   "execution_count": 213,
   "metadata": {
    "tags": []
   },
   "outputs": [],
   "source": [
    "class LSTM(nn.Module):\n",
    "    def __init__(self, input_size, hidden_size, num_layers, output_size):\n",
    "        super(LSTM, self).__init__()\n",
    "        self.hidden_size = hidden_size\n",
    "        self.lstm = nn.LSTM(input_size, hidden_size, num_layers, batch_first = True)\n",
    "        self.fc = nn.Linear(hidden_size, output_size)\n",
    "\n",
    "    def forward(self, input_seq):\n",
    "        h0 = torch.zeros(1, input_seq.size(0), self.hidden_size)\n",
    "        c0 = torch.zeros(1, input_seq.size(0), self.hidden_size)\n",
    "        output, (hn, cn) = self.lstm(input_seq, (h0, c0))\n",
    "        output = self.fc(output[:, -1, :])\n",
    "        return output\n"
   ]
  },
  {
   "cell_type": "code",
   "execution_count": 214,
   "metadata": {
    "tags": []
   },
   "outputs": [
    {
     "name": "stdout",
     "output_type": "stream",
     "text": [
      "LSTM(\n",
      "  (lstm): LSTM(2, 64, batch_first=True)\n",
      "  (fc): Linear(in_features=64, out_features=1, bias=True)\n",
      ")\n"
     ]
    }
   ],
   "source": [
    "model_01 = LSTM(input_size=input_size, hidden_size=hidden_size, num_layers=num_layers, output_size=output_size)\n",
    "print(model_01)"
   ]
  },
  {
   "cell_type": "code",
   "execution_count": 215,
   "metadata": {
    "tags": []
   },
   "outputs": [
    {
     "name": "stdout",
     "output_type": "stream",
     "text": [
      "Epoch 0, Loss: 0.01595326140522957\n",
      "Epoch 1, Loss: 0.016726594418287277\n",
      "Epoch 2, Loss: 0.017510002478957176\n",
      "Epoch 3, Loss: 0.01830773428082466\n",
      "Epoch 4, Loss: 0.019120680168271065\n",
      "Epoch 5, Loss: 0.019949045032262802\n",
      "Epoch 6, Loss: 0.020792892202734947\n",
      "Epoch 7, Loss: 0.021652260795235634\n",
      "Epoch 8, Loss: 0.022527238354086876\n",
      "Epoch 9, Loss: 0.023417945951223373\n",
      "Epoch 10, Loss: 0.02432454749941826\n",
      "Epoch 11, Loss: 0.025247247889637947\n",
      "Epoch 12, Loss: 0.026186279952526093\n",
      "Epoch 13, Loss: 0.027141911908984184\n",
      "Epoch 14, Loss: 0.028114456683397293\n",
      "Epoch 15, Loss: 0.029104236513376236\n",
      "Epoch 16, Loss: 0.030111610889434814\n",
      "Epoch 17, Loss: 0.031137000769376755\n",
      "Epoch 18, Loss: 0.032180819660425186\n",
      "Epoch 19, Loss: 0.033243536949157715\n",
      "Epoch 20, Loss: 0.034325674176216125\n",
      "Epoch 21, Loss: 0.035427775233983994\n",
      "Epoch 22, Loss: 0.036550428718328476\n",
      "Epoch 23, Loss: 0.037694286555051804\n",
      "Epoch 24, Loss: 0.038860052824020386\n",
      "Epoch 25, Loss: 0.04004848003387451\n",
      "Epoch 26, Loss: 0.041260384023189545\n",
      "Epoch 27, Loss: 0.04249665141105652\n",
      "Epoch 28, Loss: 0.04375826567411423\n",
      "Epoch 29, Loss: 0.04504624754190445\n",
      "Epoch 30, Loss: 0.046361736953258514\n",
      "Epoch 31, Loss: 0.04770598188042641\n",
      "Epoch 32, Loss: 0.049080297350883484\n",
      "Epoch 33, Loss: 0.05048616603016853\n",
      "Epoch 34, Loss: 0.05192515254020691\n",
      "Epoch 35, Loss: 0.053398970514535904\n",
      "Epoch 36, Loss: 0.05490950122475624\n",
      "Epoch 37, Loss: 0.05645878612995148\n",
      "Epoch 38, Loss: 0.05804901942610741\n",
      "Epoch 39, Loss: 0.05968264117836952\n",
      "Epoch 40, Loss: 0.06136227771639824\n",
      "Epoch 41, Loss: 0.06309083849191666\n",
      "Epoch 42, Loss: 0.06487146764993668\n",
      "Epoch 43, Loss: 0.06670765578746796\n",
      "Epoch 44, Loss: 0.06860319525003433\n",
      "Epoch 45, Loss: 0.07056234031915665\n",
      "Epoch 46, Loss: 0.0725896880030632\n",
      "Epoch 47, Loss: 0.07469040900468826\n",
      "Epoch 48, Loss: 0.07687012106180191\n",
      "Epoch 49, Loss: 0.07913517951965332\n",
      "Epoch 50, Loss: 0.08149255067110062\n",
      "Epoch 51, Loss: 0.08395000547170639\n",
      "Epoch 52, Loss: 0.08651617169380188\n",
      "Epoch 53, Loss: 0.08920068293809891\n",
      "Epoch 54, Loss: 0.09201429784297943\n",
      "Epoch 55, Loss: 0.09496892988681793\n",
      "Epoch 56, Loss: 0.0980779230594635\n",
      "Epoch 57, Loss: 0.10135602951049805\n",
      "Epoch 58, Loss: 0.10481976717710495\n",
      "Epoch 59, Loss: 0.1084873378276825\n",
      "Epoch 60, Loss: 0.11237885057926178\n",
      "Epoch 61, Loss: 0.11651627719402313\n",
      "Epoch 62, Loss: 0.12092355638742447\n",
      "Epoch 63, Loss: 0.12562623620033264\n",
      "Epoch 64, Loss: 0.13065122067928314\n",
      "Epoch 65, Loss: 0.13602596521377563\n",
      "Epoch 66, Loss: 0.14177721738815308\n",
      "Epoch 67, Loss: 0.1479290872812271\n",
      "Epoch 68, Loss: 0.1545000970363617\n",
      "Epoch 69, Loss: 0.1614990085363388\n",
      "Epoch 70, Loss: 0.168918639421463\n",
      "Epoch 71, Loss: 0.17672838270664215\n",
      "Epoch 72, Loss: 0.1848643273115158\n",
      "Epoch 73, Loss: 0.19321875274181366\n",
      "Epoch 74, Loss: 0.20163017511367798\n",
      "Epoch 75, Loss: 0.20987801253795624\n",
      "Epoch 76, Loss: 0.2176857441663742\n",
      "Epoch 77, Loss: 0.2247384786605835\n",
      "Epoch 78, Loss: 0.2307160645723343\n",
      "Epoch 79, Loss: 0.23533901572227478\n",
      "Epoch 80, Loss: 0.23841488361358643\n",
      "Epoch 81, Loss: 0.2398708313703537\n",
      "Epoch 82, Loss: 0.23976100981235504\n",
      "Epoch 83, Loss: 0.2382461428642273\n",
      "Epoch 84, Loss: 0.23555529117584229\n",
      "Epoch 85, Loss: 0.23194342851638794\n",
      "Epoch 86, Loss: 0.22765596210956573\n",
      "Epoch 87, Loss: 0.22290648519992828\n",
      "Epoch 88, Loss: 0.21786710619926453\n",
      "Epoch 89, Loss: 0.21266800165176392\n",
      "Epoch 90, Loss: 0.20740242302417755\n",
      "Epoch 91, Loss: 0.2021338939666748\n",
      "Epoch 92, Loss: 0.196903258562088\n",
      "Epoch 93, Loss: 0.19173525273799896\n",
      "Epoch 94, Loss: 0.18664319813251495\n",
      "Epoch 95, Loss: 0.18163277208805084\n",
      "Epoch 96, Loss: 0.17670480906963348\n",
      "Epoch 97, Loss: 0.17185696959495544\n",
      "Epoch 98, Loss: 0.16708491742610931\n",
      "Epoch 99, Loss: 0.1623832732439041\n",
      "30143.42578125\n"
     ]
    },
    {
     "data": {
      "image/png": "[encoded data removed]",
      "text/plain": [
       "<Figure size 640x480 with 1 Axes>"
      ]
     },
     "metadata": {},
     "output_type": "display_data"
    }
   ],
   "source": [
    "criterion = nn.MSELoss()\n",
    "optimizer = torch.optim.Adam(model_01.parameters(), lr=lr)\n",
    "\n",
    "train_loader = torch.utils.data.DataLoader(torch.utils.data.TensorDataset(train_X, train_Y), batch_size=batch_size, shuffle=False)\n",
    "\n",
    "train_pre = []\n",
    "train = []\n",
    "\n",
    "for epoch in range(epochs):\n",
    "    for i, (inputs, targets) in enumerate(train_loader):\n",
    "        outputs = model_01(inputs)\n",
    "        loss = criterion(outputs, targets)\n",
    "        outputs = outputs.detach().numpy()\n",
    "        outputs = outputs.ravel()\n",
    "        train_pre.append(outputs)\n",
    "\n",
    "        targets = targets.detach().numpy()\n",
    "        targets = targets.ravel()\n",
    "        train.append(targets)\n",
    "        optimizer.zero_grad()\n",
    "        loss.backward()\n",
    "        optimizer.step()\n",
    "    print(\"Epoch {}, Loss: {}\".format(epoch, loss.item()))\n",
    "\n",
    "size = train_size*epochs\n",
    "# 預測\n",
    "train_pre = np.array(train_pre)\n",
    "# 實際\n",
    "train = np.array(train)\n",
    "train_pre = train_pre.reshape(size)\n",
    "train = train.reshape(size)\n",
    "\n",
    "for i in range(size):\n",
    "    train_pre[i] = train_pre[i]*std_10G+mean_10G\n",
    "    train[i] = train[i]*std_10G+mean_10G\n",
    "index = [i+1 for i in range(size)]\n",
    "# 計算誤差\n",
    "num =0\n",
    "for i in range(size):\n",
    "    num += train_pre[i] - train[i]\n",
    "print(num)\n",
    "\n",
    "# 看最後一個epoch\n",
    "plt.xlabel(\"index\")\n",
    "plt.ylabel(\"output\")\n",
    "plt.plot(index[size-train_size:size], train[size-train_size:size], 'b', label=\"real\")\n",
    "plt.plot(index[size-train_size:size], train_pre[size-train_size:size], 'r', label=\"predict\")\n",
    "plt.show()\n"
   ]
  },
  {
   "cell_type": "code",
   "execution_count": 216,
   "metadata": {
    "tags": []
   },
   "outputs": [
    {
     "name": "stdout",
     "output_type": "stream",
     "text": [
      "Test Loss: 3.2660\n",
      "[9377.914 9141.683 8980.559]\n",
      "[10708. 10235.  9318.]\n",
      "-2760.8447265625\n"
     ]
    },
    {
     "data": {
      "image/png": "[encoded data removed]",
      "text/plain": [
       "<Figure size 640x480 with 1 Axes>"
      ]
     },
     "metadata": {},
     "output_type": "display_data"
    }
   ],
   "source": [
    "model_01.eval()\n",
    "with torch.no_grad():\n",
    "    test_outputs = model_01(test_X)\n",
    "    test_loss = criterion(test_outputs, test_Y)\n",
    "    print('Test Loss: {:.4f}'.format(test_loss.item()))\n",
    "\n",
    "test_outputs = test_outputs.numpy()\n",
    "test_outputs = test_outputs.ravel()\n",
    "\n",
    "for i in range(len(test_outputs)):\n",
    "    test_outputs[i] = test_outputs[i]*std_10G+mean_10G\n",
    "\n",
    "test_Y = test_Y.numpy()\n",
    "test_Y = test_Y.ravel()\n",
    "\n",
    "for i in range(len(test_Y)):\n",
    "    test_Y[i] = test_Y[i]*std_10G+mean_10G\n",
    "    \n",
    "print(test_outputs)\n",
    "print(test_Y)\n",
    "\n",
    "num =0\n",
    "for i in range(len(test_Y)):\n",
    "    num += test_outputs[i] - test_Y[i]\n",
    "\n",
    "print(num)\n",
    "index = [i+1 for i in range(days_before)]\n",
    "\n",
    "# 畫出預測的圖\n",
    "plt.xlabel(\"index\")\n",
    "plt.ylabel(\"output\")\n",
    "plt.plot(index, test_Y, 'b', label=\"real\")\n",
    "plt.plot(index, test_outputs, 'r', label=\"predict\")\n",
    "plt.show()"
   ]
  },
  {
   "cell_type": "code",
   "execution_count": null,
   "metadata": {},
   "outputs": [],
   "source": []
  }
 ],
 "metadata": {
  "kernelspec": {
   "display_name": "Python 3 (ipykernel)",
   "language": "python",
   "name": "python3"
  },
  "language_info": {
   "codemirror_mode": {
    "name": "ipython",
    "version": 3
   },
   "file_extension": ".py",
   "mimetype": "text/x-python",
   "name": "python",
   "nbconvert_exporter": "python",
   "pygments_lexer": "ipython3",
   "version": "3.10.9"
  }
 },
 "nbformat": 4,
 "nbformat_minor": 4
}
